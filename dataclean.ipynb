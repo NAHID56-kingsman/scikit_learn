{
 "cells": [
  {
   "cell_type": "code",
   "execution_count": 2,
   "id": "c74d01b6",
   "metadata": {},
   "outputs": [
    {
     "name": "stdout",
     "output_type": "stream",
     "text": [
      "Name             0.00\n",
      "Age              0.00\n",
      "Salary           0.00\n",
      "Department       0.00\n",
      "Joining_Date    20.28\n",
      "dtype: float64\n"
     ]
    }
   ],
   "source": [
    "import pandas as pd\n",
    "import numpy as np\n",
    "\n",
    "df=pd.read_csv(\"modified_with_salary.csv\")\n",
    "\n",
    "\n",
    "\n",
    "df['Age'] = df['Age'].fillna(int(df['Age'].mean()))\n",
    "\n",
    "df['Salary']=pd.to_numeric(df['Salary'],errors='coerce')\n",
    "df['Salary'] = df['Salary'].fillna(\n",
    "    np.random.randint(df['Salary'].min(), df['Salary'].mean())\n",
    ")\n",
    "\n",
    "# print(df[10:25])\n",
    "print(df.isnull().mean()*100)\n",
    "\n"
   ]
  },
  {
   "cell_type": "code",
   "execution_count": null,
   "id": "2ac1b37c",
   "metadata": {},
   "outputs": [],
   "source": []
  }
 ],
 "metadata": {
  "kernelspec": {
   "display_name": "Python 3",
   "language": "python",
   "name": "python3"
  },
  "language_info": {
   "codemirror_mode": {
    "name": "ipython",
    "version": 3
   },
   "file_extension": ".py",
   "mimetype": "text/x-python",
   "name": "python",
   "nbconvert_exporter": "python",
   "pygments_lexer": "ipython3",
   "version": "3.12.4"
  }
 },
 "nbformat": 4,
 "nbformat_minor": 5
}
